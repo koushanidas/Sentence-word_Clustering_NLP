{
 "cells": [
  {
   "cell_type": "code",
   "execution_count": null,
   "id": "6778ff36",
   "metadata": {
    "scrolled": true
   },
   "outputs": [],
   "source": [
    "!pip install sentence_transformers\n",
    "from sentence_transformers import SentenceTransformer\n",
    "import scipy.cluster.hierarchy as hcluster\n",
    "import pandas as pd\n",
    "#from nltk.corpus import stopwords\n",
    "#stop = stopwords.words('english')\n",
    "\n",
    "embedder = SentenceTransformer('bert-base-nli-mean-tokens')\n",
    "stop =['Properties','Bank','Company','LLC', 'Family','Companies','Inc.','Co.','Ltd.','LP', 'Group','inc','Inc']\n",
    "data= pd.read_csv(\"data_demo.csv\")\n",
    "#data= pd.read_csv(\"C:\\\\Users\\\\KD129201\\\\Ideal_Companies_Reduced.csv\")\n",
    "df1 = pd.DataFrame(data) \n",
    "#print(df1)\n",
    "df=df1.copy()\n",
    "#df['Name']=df1['Name'].apply(lambda words: ' '.join(word.lower() for word in words.split() if word not in stop))\n",
    "corpus = df['Name'].tolist()\n",
    "corpus_embeddings = embedder.encode(corpus)\n",
    "\n",
    "# Perform hierarchical clustering\n",
    "cosine_threshold = 0.88\n",
    "cluster_assignment = hcluster.fclusterdata(\n",
    "    corpus_embeddings, \n",
    "    1-cosine_threshold, \n",
    "    criterion=\"distance\", \n",
    "    metric=\"cosine\", \n",
    "    method=\"average\"\n",
    "    )\n",
    "\n",
    "num_clusters = len(set(cluster_assignment))\n",
    "clustered_sentences = [[] for i in range(num_clusters)]\n",
    "for sentence_id, cluster_id in enumerate(cluster_assignment):\n",
    "    clustered_sentences[cluster_id-1].append(corpus[sentence_id])\n",
    "\n",
    "data1=[]\n",
    "cluster1 = [cluster for cluster in enumerate(clustered_sentences)]\n",
    "cluster1 = [tup[1] for tup in cluster1]\n",
    "data1 = {'cluster': cluster1}\n",
    "for index in range(len(data1)):\n",
    "    dff= pd.DataFrame(data1, columns=['cluster'])\n",
    "    dff.index.names = ['Cluster ID']"
   ]
  },
  {
   "cell_type": "code",
   "execution_count": null,
   "id": "5e0cc2da",
   "metadata": {},
   "outputs": [],
   "source": []
  }
 ],
 "metadata": {
  "kernelspec": {
   "display_name": "Python 3 (ipykernel)",
   "language": "python",
   "name": "python3"
  },
  "language_info": {
   "codemirror_mode": {
    "name": "ipython",
    "version": 3
   },
   "file_extension": ".py",
   "mimetype": "text/x-python",
   "name": "python",
   "nbconvert_exporter": "python",
   "pygments_lexer": "ipython3",
   "version": "3.9.12"
  }
 },
 "nbformat": 4,
 "nbformat_minor": 5
}
